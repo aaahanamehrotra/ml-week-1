{
 "cells": [
  {
   "cell_type": "code",
   "execution_count": 1,
   "id": "6496a6b3",
   "metadata": {},
   "outputs": [],
   "source": [
    "import pandas as pd\n",
    "import numpy as np\n",
    "from matplotlib import pyplot as plt"
   ]
  },
  {
   "cell_type": "code",
   "execution_count": 2,
   "id": "a75c4a5a",
   "metadata": {},
   "outputs": [],
   "source": [
    "file = pd.read_csv(\"data.csv\")"
   ]
  },
  {
   "cell_type": "code",
   "execution_count": 3,
   "id": "5c4dafca",
   "metadata": {},
   "outputs": [
    {
     "data": {
      "text/html": [
       "<div>\n",
       "<style scoped>\n",
       "    .dataframe tbody tr th:only-of-type {\n",
       "        vertical-align: middle;\n",
       "    }\n",
       "\n",
       "    .dataframe tbody tr th {\n",
       "        vertical-align: top;\n",
       "    }\n",
       "\n",
       "    .dataframe thead th {\n",
       "        text-align: right;\n",
       "    }\n",
       "</style>\n",
       "<table border=\"1\" class=\"dataframe\">\n",
       "  <thead>\n",
       "    <tr style=\"text-align: right;\">\n",
       "      <th></th>\n",
       "      <th>month_number</th>\n",
       "      <th>facecream</th>\n",
       "      <th>facewash</th>\n",
       "      <th>toothpaste</th>\n",
       "      <th>bathingsoap</th>\n",
       "      <th>shampoo</th>\n",
       "      <th>moisturizer</th>\n",
       "      <th>total_units</th>\n",
       "      <th>total_profit</th>\n",
       "    </tr>\n",
       "  </thead>\n",
       "  <tbody>\n",
       "    <tr>\n",
       "      <th>0</th>\n",
       "      <td>1</td>\n",
       "      <td>2500</td>\n",
       "      <td>1500</td>\n",
       "      <td>5200</td>\n",
       "      <td>9200</td>\n",
       "      <td>1200</td>\n",
       "      <td>1500</td>\n",
       "      <td>21100</td>\n",
       "      <td>211000</td>\n",
       "    </tr>\n",
       "    <tr>\n",
       "      <th>1</th>\n",
       "      <td>2</td>\n",
       "      <td>2630</td>\n",
       "      <td>1200</td>\n",
       "      <td>5100</td>\n",
       "      <td>6100</td>\n",
       "      <td>2100</td>\n",
       "      <td>1200</td>\n",
       "      <td>18330</td>\n",
       "      <td>183300</td>\n",
       "    </tr>\n",
       "    <tr>\n",
       "      <th>2</th>\n",
       "      <td>3</td>\n",
       "      <td>2140</td>\n",
       "      <td>1340</td>\n",
       "      <td>4550</td>\n",
       "      <td>9550</td>\n",
       "      <td>3550</td>\n",
       "      <td>1340</td>\n",
       "      <td>22470</td>\n",
       "      <td>224700</td>\n",
       "    </tr>\n",
       "    <tr>\n",
       "      <th>3</th>\n",
       "      <td>4</td>\n",
       "      <td>3400</td>\n",
       "      <td>1130</td>\n",
       "      <td>5870</td>\n",
       "      <td>8870</td>\n",
       "      <td>1870</td>\n",
       "      <td>1130</td>\n",
       "      <td>22270</td>\n",
       "      <td>222700</td>\n",
       "    </tr>\n",
       "    <tr>\n",
       "      <th>4</th>\n",
       "      <td>5</td>\n",
       "      <td>3600</td>\n",
       "      <td>1740</td>\n",
       "      <td>4560</td>\n",
       "      <td>7760</td>\n",
       "      <td>1560</td>\n",
       "      <td>1740</td>\n",
       "      <td>20960</td>\n",
       "      <td>209600</td>\n",
       "    </tr>\n",
       "  </tbody>\n",
       "</table>\n",
       "</div>"
      ],
      "text/plain": [
       "   month_number  facecream  facewash  toothpaste  bathingsoap  shampoo  \\\n",
       "0             1       2500      1500        5200         9200     1200   \n",
       "1             2       2630      1200        5100         6100     2100   \n",
       "2             3       2140      1340        4550         9550     3550   \n",
       "3             4       3400      1130        5870         8870     1870   \n",
       "4             5       3600      1740        4560         7760     1560   \n",
       "\n",
       "   moisturizer  total_units  total_profit  \n",
       "0         1500        21100        211000  \n",
       "1         1200        18330        183300  \n",
       "2         1340        22470        224700  \n",
       "3         1130        22270        222700  \n",
       "4         1740        20960        209600  "
      ]
     },
     "execution_count": 3,
     "metadata": {},
     "output_type": "execute_result"
    }
   ],
   "source": [
    "file.head(5)"
   ]
  },
  {
   "cell_type": "code",
   "execution_count": 4,
   "id": "d58a3674",
   "metadata": {},
   "outputs": [
    {
     "data": {
      "text/html": [
       "<div>\n",
       "<style scoped>\n",
       "    .dataframe tbody tr th:only-of-type {\n",
       "        vertical-align: middle;\n",
       "    }\n",
       "\n",
       "    .dataframe tbody tr th {\n",
       "        vertical-align: top;\n",
       "    }\n",
       "\n",
       "    .dataframe thead th {\n",
       "        text-align: right;\n",
       "    }\n",
       "</style>\n",
       "<table border=\"1\" class=\"dataframe\">\n",
       "  <thead>\n",
       "    <tr style=\"text-align: right;\">\n",
       "      <th></th>\n",
       "      <th>month_number</th>\n",
       "      <th>facecream</th>\n",
       "      <th>facewash</th>\n",
       "      <th>toothpaste</th>\n",
       "      <th>bathingsoap</th>\n",
       "      <th>shampoo</th>\n",
       "      <th>moisturizer</th>\n",
       "      <th>total_units</th>\n",
       "      <th>total_profit</th>\n",
       "    </tr>\n",
       "  </thead>\n",
       "  <tbody>\n",
       "    <tr>\n",
       "      <th>7</th>\n",
       "      <td>8</td>\n",
       "      <td>3700</td>\n",
       "      <td>1400</td>\n",
       "      <td>5860</td>\n",
       "      <td>9960</td>\n",
       "      <td>2860</td>\n",
       "      <td>1400</td>\n",
       "      <td>36140</td>\n",
       "      <td>361400</td>\n",
       "    </tr>\n",
       "    <tr>\n",
       "      <th>8</th>\n",
       "      <td>9</td>\n",
       "      <td>3540</td>\n",
       "      <td>1780</td>\n",
       "      <td>6100</td>\n",
       "      <td>8100</td>\n",
       "      <td>2100</td>\n",
       "      <td>1780</td>\n",
       "      <td>23400</td>\n",
       "      <td>234000</td>\n",
       "    </tr>\n",
       "    <tr>\n",
       "      <th>9</th>\n",
       "      <td>10</td>\n",
       "      <td>1990</td>\n",
       "      <td>1890</td>\n",
       "      <td>8300</td>\n",
       "      <td>10300</td>\n",
       "      <td>2300</td>\n",
       "      <td>1890</td>\n",
       "      <td>26670</td>\n",
       "      <td>266700</td>\n",
       "    </tr>\n",
       "    <tr>\n",
       "      <th>10</th>\n",
       "      <td>11</td>\n",
       "      <td>2340</td>\n",
       "      <td>2100</td>\n",
       "      <td>7300</td>\n",
       "      <td>13300</td>\n",
       "      <td>2400</td>\n",
       "      <td>2100</td>\n",
       "      <td>41280</td>\n",
       "      <td>412800</td>\n",
       "    </tr>\n",
       "    <tr>\n",
       "      <th>11</th>\n",
       "      <td>12</td>\n",
       "      <td>2900</td>\n",
       "      <td>1760</td>\n",
       "      <td>7400</td>\n",
       "      <td>14400</td>\n",
       "      <td>1800</td>\n",
       "      <td>1760</td>\n",
       "      <td>30020</td>\n",
       "      <td>300200</td>\n",
       "    </tr>\n",
       "  </tbody>\n",
       "</table>\n",
       "</div>"
      ],
      "text/plain": [
       "    month_number  facecream  facewash  toothpaste  bathingsoap  shampoo  \\\n",
       "7              8       3700      1400        5860         9960     2860   \n",
       "8              9       3540      1780        6100         8100     2100   \n",
       "9             10       1990      1890        8300        10300     2300   \n",
       "10            11       2340      2100        7300        13300     2400   \n",
       "11            12       2900      1760        7400        14400     1800   \n",
       "\n",
       "    moisturizer  total_units  total_profit  \n",
       "7          1400        36140        361400  \n",
       "8          1780        23400        234000  \n",
       "9          1890        26670        266700  \n",
       "10         2100        41280        412800  \n",
       "11         1760        30020        300200  "
      ]
     },
     "execution_count": 4,
     "metadata": {},
     "output_type": "execute_result"
    }
   ],
   "source": [
    "file.tail(5)"
   ]
  },
  {
   "cell_type": "code",
   "execution_count": 5,
   "id": "39063bf1",
   "metadata": {},
   "outputs": [],
   "source": [
    "total_profit_for_each_product = file.sum(axis=0)\n",
    "total_profit_for_each_product = total_profit_for_each_product.drop(['month_number', 'total_units', 'total_profit'])"
   ]
  },
  {
   "cell_type": "code",
   "execution_count": 6,
   "id": "a911f98b",
   "metadata": {},
   "outputs": [],
   "source": [
    "\n",
    "products = file.columns\n",
    "products = products.to_numpy()\n",
    "products = np.delete(products, [0, -2, -1])"
   ]
  },
  {
   "cell_type": "code",
   "execution_count": 7,
   "id": "9065bda0",
   "metadata": {},
   "outputs": [
    {
     "data": {
      "image/png": "[encoded data removed]",
      "text/plain": [
       "<Figure size 432x288 with 1 Axes>"
      ]
     },
     "metadata": {},
     "output_type": "display_data"
    }
   ],
   "source": [
    "plt.pie(total_profit_for_each_product, labels=products)\n",
    "# plt.labels(products)\n",
    "plt.show()"
   ]
  },
  {
   "cell_type": "code",
   "execution_count": 8,
   "id": "43278ef7",
   "metadata": {},
   "outputs": [],
   "source": [
    "total_units = file['total_units']\n",
    "months = file['month_number']"
   ]
  },
  {
   "cell_type": "code",
   "execution_count": 9,
   "id": "91378d99",
   "metadata": {},
   "outputs": [
    {
     "data": {
      "image/png": "[encoded data removed]",
      "text/plain": [
       "<Figure size 432x288 with 1 Axes>"
      ]
     },
     "metadata": {
      "needs_background": "light"
     },
     "output_type": "display_data"
    }
   ],
   "source": [
    "plt.stackplot(months, total_units)\n",
    "plt.xlabel(\"Month Number\")\n",
    "plt.ylabel(\"Total Units Sold\")\n",
    "plt.title(\"Total Units sold for each Month\")\n",
    "plt.show()"
   ]
  },
  {
   "cell_type": "code",
   "execution_count": 18,
   "id": "e1d0cb7c",
   "metadata": {},
   "outputs": [
    {
     "data": {
      "text/plain": [
       "Text(0.5, 1.0, 'Profit data of Toothpaste')"
      ]
     },
     "execution_count": 18,
     "metadata": {},
     "output_type": "execute_result"
    },
    {
     "data": {
      "image/png": "[encoded data removed]",
      "text/plain": [
       "<Figure size 432x288 with 1 Axes>"
      ]
     },
     "metadata": {
      "needs_background": "light"
     },
     "output_type": "display_data"
    }
   ],
   "source": [
    "toothpaste = file['toothpaste']\n",
    "months = file['month_number']\n",
    "plt.bar(months, toothpaste)\n",
    "plt.xlabel(\"Month Number\")\n",
    "plt.ylabel(\"Number of Toothpastes sold\")\n",
    "plt.title(\"Profit data of Toothpaste\")"
   ]
  },
  {
   "cell_type": "code",
   "execution_count": 19,
   "id": "3ddd1721",
   "metadata": {},
   "outputs": [],
   "source": [
    "total_profit = file[\"total_profit\"]"
   ]
  },
  {
   "cell_type": "code",
   "execution_count": 20,
   "id": "80b64df1",
   "metadata": {},
   "outputs": [
    {
     "data": {
      "text/plain": [
       "0     211000\n",
       "1     183300\n",
       "2     224700\n",
       "3     222700\n",
       "4     209600\n",
       "5     201400\n",
       "6     295500\n",
       "7     361400\n",
       "8     234000\n",
       "9     266700\n",
       "10    412800\n",
       "11    300200\n",
       "Name: total_profit, dtype: int64"
      ]
     },
     "execution_count": 20,
     "metadata": {},
     "output_type": "execute_result"
    }
   ],
   "source": [
    "total_profit"
   ]
  },
  {
   "cell_type": "code",
   "execution_count": 26,
   "id": "384661ed",
   "metadata": {},
   "outputs": [],
   "source": [
    "months = file[\"month_number\"]"
   ]
  },
  {
   "cell_type": "code",
   "execution_count": 32,
   "id": "0453816c",
   "metadata": {},
   "outputs": [
    {
     "data": {
      "text/plain": [
       "3123300"
      ]
     },
     "execution_count": 32,
     "metadata": {},
     "output_type": "execute_result"
    }
   ],
   "source": [
    "sum(total_profit)"
   ]
  },
  {
   "cell_type": "code",
   "execution_count": 22,
   "id": "15556758",
   "metadata": {},
   "outputs": [
    {
     "data": {
      "text/plain": [
       "0      1\n",
       "1      2\n",
       "2      3\n",
       "3      4\n",
       "4      5\n",
       "5      6\n",
       "6      7\n",
       "7      8\n",
       "8      9\n",
       "9     10\n",
       "10    11\n",
       "11    12\n",
       "Name: month_number, dtype: int64"
      ]
     },
     "execution_count": 22,
     "metadata": {},
     "output_type": "execute_result"
    }
   ],
   "source": [
    "months"
   ]
  },
  {
   "cell_type": "code",
   "execution_count": 25,
   "id": "6888ace0",
   "metadata": {},
   "outputs": [
    {
     "data": {
      "text/plain": [
       "Text(0.5, 1.0, 'Profit data of the Year')"
      ]
     },
     "execution_count": 25,
     "metadata": {},
     "output_type": "execute_result"
    },
    {
     "data": {
      "image/png": "[encoded data removed]",
      "text/plain": [
       "<Figure size 432x288 with 1 Axes>"
      ]
     },
     "metadata": {
      "needs_background": "light"
     },
     "output_type": "display_data"
    }
   ],
   "source": [
    "plt.bar(months, total_profit)\n",
    "plt.xlabel(\"Month Number\")\n",
    "plt.ylabel(\"Total Profit\")\n",
    "plt.title(\"Profit data of the Year\")"
   ]
  },
  {
   "cell_type": "code",
   "execution_count": null,
   "id": "c7e005e5",
   "metadata": {},
   "outputs": [],
   "source": []
  }
 ],
 "metadata": {
  "kernelspec": {
   "display_name": "Python 3",
   "language": "python",
   "name": "python3"
  },
  "language_info": {
   "codemirror_mode": {
    "name": "ipython",
    "version": 3
   },
   "file_extension": ".py",
   "mimetype": "text/x-python",
   "name": "python",
   "nbconvert_exporter": "python",
   "pygments_lexer": "ipython3",
   "version": "3.8.10"
  }
 },
 "nbformat": 4,
 "nbformat_minor": 5
}
